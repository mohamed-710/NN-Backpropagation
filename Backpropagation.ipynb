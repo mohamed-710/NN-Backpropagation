{
 "cells": [
  {
   "cell_type": "code",
   "execution_count": 1,
   "metadata": {},
   "outputs": [],
   "source": [
    "import numpy as np "
   ]
  },
  {
   "cell_type": "code",
   "execution_count": 2,
   "metadata": {},
   "outputs": [],
   "source": [
    "# (hours sleeping  , hours studying) , y=test score \n",
    "x=np.array(([2,9],[1,5],[3,6]),dtype=float)\n",
    "y=np.array(([92],[86],[89]),dtype=float)"
   ]
  },
  {
   "cell_type": "code",
   "execution_count": 3,
   "metadata": {},
   "outputs": [],
   "source": [
    "x=x/np.amax(x, axis=0) # maximum of x array \n",
    "y=y/100 "
   ]
  },
  {
   "cell_type": "code",
   "execution_count": 30,
   "metadata": {},
   "outputs": [],
   "source": [
    "class NeuralNetwork(object):\n",
    "    def __init__(self):\n",
    "        #parameters\n",
    "        self.inputSize = 2\n",
    "        self.outputSize = 1\n",
    "        self.hiddenSize = 3\n",
    "        \n",
    "        #weights\n",
    "        self.W1 = np.random.randn(self.inputSize, self.hiddenSize) # (2x3) weight matrix from input to hidden layer\n",
    "        self.W2 = np.random.randn(self.hiddenSize, self.outputSize) # (3x1) weight matrix from hidden to output layer\n",
    "        \n",
    "    def feedForward(self, X):\n",
    "        #forward propogation through the network\n",
    "        self.z = np.dot(X, self.W1) #dot product of X (input) and first set of weights (2x3)\n",
    "        self.z2 = self.sigmoid(self.z) #activation function\n",
    "        self.z3 = np.dot(self.z2, self.W2) #dot product of hidden layer (z2) and second set of weights (3x1)\n",
    "        output = self.sigmoid(self.z3)\n",
    "        return output\n",
    "    \n",
    "    def sigmoid(self, s, deriv=False):\n",
    "        if deriv:\n",
    "            return s * (1 - s)\n",
    "        return 1/(1 + np.exp(-s))\n",
    "    \n",
    "    def backward(self, x, y, output):\n",
    "        #backward propagate through the network\n",
    "        self.output_error = y - output\n",
    "        self.output_delta = self.output_error * self.sigmoid(output, deriv=True)\n",
    "\n",
    "        self.z2_error = self.output_delta.dot(self.W2.T)  # Using correct W2\n",
    "        self.z2_delta = self.z2_error * self.sigmoid(self.z2, deriv=True)\n",
    "\n",
    "        self.W1 += x.T.dot(self.z2_delta)  # Adjusting input -> hidden weights\n",
    "        self.W2 += self.z2.T.dot(self.output_delta)  # Adjusting hidden -> output weights\n",
    "    \n",
    "    def train(self, x, y):\n",
    "        output = self.feedForward(x)\n",
    "        self.backward(x, y, output)\n"
   ]
  },
  {
   "cell_type": "code",
   "execution_count": null,
   "metadata": {},
   "outputs": [],
   "source": []
  },
  {
   "cell_type": "code",
   "execution_count": 39,
   "metadata": {},
   "outputs": [
    {
     "name": "stdout",
     "output_type": "stream",
     "text": [
      "Loss at iteration 0: 0.20685910681880157\n",
      "Loss at iteration 100: 0.0006169872351049897\n",
      "Loss at iteration 200: 0.0005733660751091801\n",
      "Loss at iteration 300: 0.0005425630622745713\n",
      "Loss at iteration 400: 0.0005151599898805472\n",
      "Loss at iteration 500: 0.0004906521167414654\n",
      "Loss at iteration 600: 0.00046863116944754167\n",
      "Loss at iteration 700: 0.0004487575758480644\n",
      "Loss at iteration 800: 0.0004307477038453199\n",
      "Loss at iteration 900: 0.00041436352468853926\n",
      "Input: [[0.66666667 1.        ]\n",
      " [0.33333333 0.55555556]\n",
      " [1.         0.66666667]]\n",
      "Actual Output: [[0.92]\n",
      " [0.86]\n",
      " [0.89]]\n",
      "Predicted Output: [[0.89276231]\n",
      " [0.87192775]\n",
      " [0.90772146]]\n"
     ]
    }
   ],
   "source": [
    "NN = NeuralNetwork()\n",
    "for i in range(1000): # trains the NN 1000 times\n",
    "    if i % 100 == 0:\n",
    "        loss = np.mean(np.square(y - NN.feedForward(x)))\n",
    "        print(f\"Loss at iteration {i}: {loss}\")\n",
    "    NN.train(x, y)\n",
    "\n",
    "print(\"Input: \" + str(x))\n",
    "print(\"Actual Output: \" + str(y))\n",
    "print(\"Predicted Output: \" + str(NN.feedForward(x)))"
   ]
  }
 ],
 "metadata": {
  "kernelspec": {
   "display_name": "base",
   "language": "python",
   "name": "python3"
  },
  "language_info": {
   "codemirror_mode": {
    "name": "ipython",
    "version": 3
   },
   "file_extension": ".py",
   "mimetype": "text/x-python",
   "name": "python",
   "nbconvert_exporter": "python",
   "pygments_lexer": "ipython3",
   "version": "3.11.5"
  }
 },
 "nbformat": 4,
 "nbformat_minor": 2
}
